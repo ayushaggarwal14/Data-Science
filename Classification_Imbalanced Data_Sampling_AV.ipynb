{
 "cells": [
  {
   "cell_type": "markdown",
   "metadata": {},
   "source": [
    "# Importing Libraries"
   ]
  },
  {
   "cell_type": "code",
   "execution_count": 155,
   "metadata": {},
   "outputs": [],
   "source": [
    "import numpy as np\n",
    "import pandas as pd\n",
    "import seaborn as sns\n",
    "import matplotlib.pyplot as plt\n",
    "%matplotlib inline\n",
    "import warnings\n",
    "warnings.filterwarnings(\"ignore\")"
   ]
  },
  {
   "cell_type": "markdown",
   "metadata": {},
   "source": [
    "# Loading training dataset"
   ]
  },
  {
   "cell_type": "code",
   "execution_count": 156,
   "metadata": {},
   "outputs": [
    {
     "data": {
      "text/html": [
       "<div>\n",
       "<style scoped>\n",
       "    .dataframe tbody tr th:only-of-type {\n",
       "        vertical-align: middle;\n",
       "    }\n",
       "\n",
       "    .dataframe tbody tr th {\n",
       "        vertical-align: top;\n",
       "    }\n",
       "\n",
       "    .dataframe thead th {\n",
       "        text-align: right;\n",
       "    }\n",
       "</style>\n",
       "<table border=\"1\" class=\"dataframe\">\n",
       "  <thead>\n",
       "    <tr style=\"text-align: right;\">\n",
       "      <th></th>\n",
       "      <th>Gender</th>\n",
       "      <th>Age</th>\n",
       "      <th>Region_Code</th>\n",
       "      <th>Occupation</th>\n",
       "      <th>Channel_Code</th>\n",
       "      <th>Vintage</th>\n",
       "      <th>Credit_Product</th>\n",
       "      <th>Avg_Account_Balance</th>\n",
       "      <th>Is_Active</th>\n",
       "      <th>Is_Lead</th>\n",
       "    </tr>\n",
       "    <tr>\n",
       "      <th>ID</th>\n",
       "      <th></th>\n",
       "      <th></th>\n",
       "      <th></th>\n",
       "      <th></th>\n",
       "      <th></th>\n",
       "      <th></th>\n",
       "      <th></th>\n",
       "      <th></th>\n",
       "      <th></th>\n",
       "      <th></th>\n",
       "    </tr>\n",
       "  </thead>\n",
       "  <tbody>\n",
       "    <tr>\n",
       "      <th>NNVBBKZB</th>\n",
       "      <td>Female</td>\n",
       "      <td>73</td>\n",
       "      <td>RG268</td>\n",
       "      <td>Other</td>\n",
       "      <td>X3</td>\n",
       "      <td>43</td>\n",
       "      <td>No</td>\n",
       "      <td>1045696</td>\n",
       "      <td>No</td>\n",
       "      <td>0</td>\n",
       "    </tr>\n",
       "    <tr>\n",
       "      <th>IDD62UNG</th>\n",
       "      <td>Female</td>\n",
       "      <td>30</td>\n",
       "      <td>RG277</td>\n",
       "      <td>Salaried</td>\n",
       "      <td>X1</td>\n",
       "      <td>32</td>\n",
       "      <td>No</td>\n",
       "      <td>581988</td>\n",
       "      <td>No</td>\n",
       "      <td>0</td>\n",
       "    </tr>\n",
       "    <tr>\n",
       "      <th>HD3DSEMC</th>\n",
       "      <td>Female</td>\n",
       "      <td>56</td>\n",
       "      <td>RG268</td>\n",
       "      <td>Self_Employed</td>\n",
       "      <td>X3</td>\n",
       "      <td>26</td>\n",
       "      <td>No</td>\n",
       "      <td>1484315</td>\n",
       "      <td>Yes</td>\n",
       "      <td>0</td>\n",
       "    </tr>\n",
       "    <tr>\n",
       "      <th>BF3NC7KV</th>\n",
       "      <td>Male</td>\n",
       "      <td>34</td>\n",
       "      <td>RG270</td>\n",
       "      <td>Salaried</td>\n",
       "      <td>X1</td>\n",
       "      <td>19</td>\n",
       "      <td>No</td>\n",
       "      <td>470454</td>\n",
       "      <td>No</td>\n",
       "      <td>0</td>\n",
       "    </tr>\n",
       "    <tr>\n",
       "      <th>TEASRWXV</th>\n",
       "      <td>Female</td>\n",
       "      <td>30</td>\n",
       "      <td>RG282</td>\n",
       "      <td>Salaried</td>\n",
       "      <td>X1</td>\n",
       "      <td>33</td>\n",
       "      <td>No</td>\n",
       "      <td>886787</td>\n",
       "      <td>No</td>\n",
       "      <td>0</td>\n",
       "    </tr>\n",
       "  </tbody>\n",
       "</table>\n",
       "</div>"
      ],
      "text/plain": [
       "          Gender  Age Region_Code     Occupation Channel_Code  Vintage  \\\n",
       "ID                                                                       \n",
       "NNVBBKZB  Female   73       RG268          Other           X3       43   \n",
       "IDD62UNG  Female   30       RG277       Salaried           X1       32   \n",
       "HD3DSEMC  Female   56       RG268  Self_Employed           X3       26   \n",
       "BF3NC7KV    Male   34       RG270       Salaried           X1       19   \n",
       "TEASRWXV  Female   30       RG282       Salaried           X1       33   \n",
       "\n",
       "         Credit_Product  Avg_Account_Balance Is_Active  Is_Lead  \n",
       "ID                                                               \n",
       "NNVBBKZB             No              1045696        No        0  \n",
       "IDD62UNG             No               581988        No        0  \n",
       "HD3DSEMC             No              1484315       Yes        0  \n",
       "BF3NC7KV             No               470454        No        0  \n",
       "TEASRWXV             No               886787        No        0  "
      ]
     },
     "execution_count": 156,
     "metadata": {},
     "output_type": "execute_result"
    }
   ],
   "source": [
    "df_train = pd.read_csv(\"train_s3TEQDk.csv\")\n",
    "df_train.set_index('ID',inplace=True)\n",
    "df_train.head()"
   ]
  },
  {
   "cell_type": "code",
   "execution_count": 157,
   "metadata": {},
   "outputs": [
    {
     "data": {
      "text/plain": [
       "(245725, 10)"
      ]
     },
     "execution_count": 157,
     "metadata": {},
     "output_type": "execute_result"
    }
   ],
   "source": [
    "df_train.shape"
   ]
  },
  {
   "cell_type": "code",
   "execution_count": 158,
   "metadata": {},
   "outputs": [
    {
     "data": {
      "text/plain": [
       "21"
      ]
     },
     "execution_count": 158,
     "metadata": {},
     "output_type": "execute_result"
    }
   ],
   "source": [
    "#checking for duplicates\n",
    "sum(df_train.duplicated())"
   ]
  },
  {
   "cell_type": "code",
   "execution_count": 159,
   "metadata": {},
   "outputs": [],
   "source": [
    "#removing duplicates\n",
    "df_train = df_train.drop_duplicates()"
   ]
  },
  {
   "cell_type": "code",
   "execution_count": 160,
   "metadata": {},
   "outputs": [
    {
     "data": {
      "text/plain": [
       "<matplotlib.axes._subplots.AxesSubplot at 0x2419340e588>"
      ]
     },
     "execution_count": 160,
     "metadata": {},
     "output_type": "execute_result"
    },
    {
     "data": {
      "image/png": "[encoded data removed]",
      "text/plain": [
       "<Figure size 432x288 with 1 Axes>"
      ]
     },
     "metadata": {
      "needs_background": "light"
     },
     "output_type": "display_data"
    }
   ],
   "source": [
    "#checking nullvalues in each column through visualisation\n",
    "sns.heatmap(df_train.isnull(), cbar=False, cmap='viridis')\n",
    "#insight --> missing values only in one column i.e. credit_product"
   ]
  },
  {
   "cell_type": "code",
   "execution_count": 161,
   "metadata": {},
   "outputs": [
    {
     "data": {
      "text/plain": [
       "Gender                  0.000000\n",
       "Age                     0.000000\n",
       "Region_Code             0.000000\n",
       "Occupation              0.000000\n",
       "Channel_Code            0.000000\n",
       "Vintage                 0.000000\n",
       "Credit_Product         11.935093\n",
       "Avg_Account_Balance     0.000000\n",
       "Is_Active               0.000000\n",
       "Is_Lead                 0.000000\n",
       "dtype: float64"
      ]
     },
     "execution_count": 161,
     "metadata": {},
     "output_type": "execute_result"
    }
   ],
   "source": [
    "#missing value proportions\n",
    "(df_train.isnull().sum()/len(df_train))*100\n",
    "# insight --> more than 10% of a column is missing, hence cannot drop these rows"
   ]
  },
  {
   "cell_type": "code",
   "execution_count": 162,
   "metadata": {},
   "outputs": [],
   "source": [
    "#Imputing missing values in training and test dataset.\n",
    "df_train=df_train.fillna('Yes')\n",
    "df_test_final= pd.read_csv('test_mSzZ8RL.csv')\n",
    "df_test_final=df_test_final.fillna('Yes')"
   ]
  },
  {
   "cell_type": "code",
   "execution_count": 163,
   "metadata": {},
   "outputs": [],
   "source": [
    "#setting index as ID in training and test datasets\n",
    "df_test_final.set_index('ID',inplace=True)"
   ]
  },
  {
   "cell_type": "code",
   "execution_count": 164,
   "metadata": {},
   "outputs": [
    {
     "data": {
      "text/plain": [
       "0    187416\n",
       "1     58288\n",
       "Name: Is_Lead, dtype: int64"
      ]
     },
     "execution_count": 164,
     "metadata": {},
     "output_type": "execute_result"
    }
   ],
   "source": [
    "#checking distribution of target variable\n",
    "df_train['Is_Lead'].value_counts()\n",
    "# insight --> imbalanced data, would use Startified K fold technique to build the model"
   ]
  },
  {
   "cell_type": "markdown",
   "metadata": {},
   "source": [
    "# Target Variable Distribution based on different features"
   ]
  },
  {
   "cell_type": "code",
   "execution_count": 165,
   "metadata": {},
   "outputs": [
    {
     "data": {
      "text/plain": [
       "<matplotlib.axes._subplots.AxesSubplot at 0x24194ac9470>"
      ]
     },
     "execution_count": 165,
     "metadata": {},
     "output_type": "execute_result"
    },
    {
     "data": {
      "image/png": "[encoded data removed]",
      "text/plain": [
       "<Figure size 432x288 with 1 Axes>"
      ]
     },
     "metadata": {
      "needs_background": "light"
     },
     "output_type": "display_data"
    }
   ],
   "source": [
    "sns.countplot('Is_Lead', hue ='Gender', data=df_train, palette='RdBu_r')"
   ]
  },
  {
   "cell_type": "code",
   "execution_count": 166,
   "metadata": {},
   "outputs": [
    {
     "data": {
      "text/plain": [
       "<matplotlib.axes._subplots.AxesSubplot at 0x24193ef3c50>"
      ]
     },
     "execution_count": 166,
     "metadata": {},
     "output_type": "execute_result"
    },
    {
     "data": {
      "image/png": "[encoded data removed]",
      "text/plain": [
       "<Figure size 432x288 with 1 Axes>"
      ]
     },
     "metadata": {
      "needs_background": "light"
     },
     "output_type": "display_data"
    }
   ],
   "source": [
    "sns.countplot('Is_Lead', hue ='Occupation', data=df_train, palette='RdBu_r')"
   ]
  },
  {
   "cell_type": "code",
   "execution_count": 167,
   "metadata": {},
   "outputs": [
    {
     "data": {
      "text/plain": [
       "<matplotlib.axes._subplots.AxesSubplot at 0x24192ce9940>"
      ]
     },
     "execution_count": 167,
     "metadata": {},
     "output_type": "execute_result"
    },
    {
     "data": {
      "image/png": "[encoded data removed]",
      "text/plain": [
       "<Figure size 432x288 with 1 Axes>"
      ]
     },
     "metadata": {
      "needs_background": "light"
     },
     "output_type": "display_data"
    }
   ],
   "source": [
    "sns.countplot('Is_Lead', hue ='Credit_Product', data=df_train, palette='RdBu_r')"
   ]
  },
  {
   "cell_type": "code",
   "execution_count": 168,
   "metadata": {},
   "outputs": [
    {
     "data": {
      "text/plain": [
       "<matplotlib.axes._subplots.AxesSubplot at 0x24193fbab38>"
      ]
     },
     "execution_count": 168,
     "metadata": {},
     "output_type": "execute_result"
    },
    {
     "data": {
      "image/png": "[encoded data removed]",
      "text/plain": [
       "<Figure size 432x288 with 1 Axes>"
      ]
     },
     "metadata": {
      "needs_background": "light"
     },
     "output_type": "display_data"
    }
   ],
   "source": [
    "sns.countplot('Is_Lead', hue ='Channel_Code', data=df_train, palette='RdBu_r')"
   ]
  },
  {
   "cell_type": "code",
   "execution_count": 169,
   "metadata": {},
   "outputs": [
    {
     "data": {
      "text/plain": [
       "['Gender',\n",
       " 'Region_Code',\n",
       " 'Occupation',\n",
       " 'Channel_Code',\n",
       " 'Credit_Product',\n",
       " 'Is_Active']"
      ]
     },
     "execution_count": 169,
     "metadata": {},
     "output_type": "execute_result"
    }
   ],
   "source": [
    "#categorical variables\n",
    "cat_bool=df_train.dtypes=='object'\n",
    "categorial_variables = list(cat_bool[cat_bool].index)\n",
    "categorial_variables"
   ]
  },
  {
   "cell_type": "code",
   "execution_count": 170,
   "metadata": {},
   "outputs": [
    {
     "name": "stdout",
     "output_type": "stream",
     "text": [
      "['Age', 'Vintage', 'Avg_Account_Balance', 'Is_Lead']\n"
     ]
    }
   ],
   "source": [
    "#numerical variables\n",
    "num_bool=df_train.dtypes!='object'\n",
    "numerical_variables = list(num_bool[num_bool].index)\n",
    "print(numerical_variables)"
   ]
  },
  {
   "cell_type": "markdown",
   "metadata": {},
   "source": [
    "# Numerical Variables"
   ]
  },
  {
   "cell_type": "code",
   "execution_count": 173,
   "metadata": {},
   "outputs": [
    {
     "data": {
      "text/plain": [
       "<matplotlib.axes._subplots.AxesSubplot at 0x241942bb898>"
      ]
     },
     "execution_count": 173,
     "metadata": {},
     "output_type": "execute_result"
    },
    {
     "data": {
      "image/png": "[encoded data removed]",
      "text/plain": [
       "<Figure size 432x288 with 1 Axes>"
      ]
     },
     "metadata": {
      "needs_background": "light"
     },
     "output_type": "display_data"
    }
   ],
   "source": [
    "sns.boxplot('Age',data=df_train)\n",
    "#no outliers"
   ]
  },
  {
   "cell_type": "code",
   "execution_count": 174,
   "metadata": {},
   "outputs": [
    {
     "data": {
      "text/plain": [
       "<matplotlib.axes._subplots.AxesSubplot at 0x241944fb9b0>"
      ]
     },
     "execution_count": 174,
     "metadata": {},
     "output_type": "execute_result"
    },
    {
     "data": {
      "image/png": "[encoded data removed]",
      "text/plain": [
       "<Figure size 432x288 with 1 Axes>"
      ]
     },
     "metadata": {
      "needs_background": "light"
     },
     "output_type": "display_data"
    }
   ],
   "source": [
    "sns.distplot(df_train['Avg_Account_Balance'])"
   ]
  },
  {
   "cell_type": "code",
   "execution_count": 175,
   "metadata": {},
   "outputs": [],
   "source": [
    "df_train = df_train[df_train['Avg_Account_Balance']<=max(df_test_final.Avg_Account_Balance)].reset_index(drop=True)\n",
    "#treating outliers based on final test data"
   ]
  },
  {
   "cell_type": "code",
   "execution_count": 176,
   "metadata": {},
   "outputs": [
    {
     "data": {
      "text/plain": [
       "<matplotlib.axes._subplots.AxesSubplot at 0x24194302160>"
      ]
     },
     "execution_count": 176,
     "metadata": {},
     "output_type": "execute_result"
    },
    {
     "data": {
      "image/png": "[encoded data removed]",
      "text/plain": [
       "<Figure size 432x288 with 1 Axes>"
      ]
     },
     "metadata": {
      "needs_background": "light"
     },
     "output_type": "display_data"
    }
   ],
   "source": [
    "sns.boxplot('Vintage',data=df_train)\n",
    "#no outliers"
   ]
  },
  {
   "cell_type": "markdown",
   "metadata": {},
   "source": [
    "# Label Encoding Categorical Variables"
   ]
  },
  {
   "cell_type": "code",
   "execution_count": 178,
   "metadata": {},
   "outputs": [],
   "source": [
    "from sklearn.preprocessing import LabelEncoder\n",
    "le = LabelEncoder()\n",
    "for i in categorial_variables:\n",
    "    df_train[i] = le.fit_transform(df_train[i])\n",
    "    df_test_final[i] = le.fit_transform(df_test_final[i])"
   ]
  },
  {
   "cell_type": "markdown",
   "metadata": {},
   "source": [
    "# Modeling"
   ]
  },
  {
   "cell_type": "code",
   "execution_count": 179,
   "metadata": {},
   "outputs": [],
   "source": [
    "X=df_train.drop(['Is_Lead'],axis=1)\n",
    "y=df_train['Is_Lead']"
   ]
  },
  {
   "cell_type": "code",
   "execution_count": 180,
   "metadata": {},
   "outputs": [],
   "source": [
    "from sklearn.model_selection import KFold, StratifiedKFold\n",
    "from sklearn.metrics import roc_auc_score\n",
    "\n",
    "def cross_val(X, y, model, params, folds=9):\n",
    "\n",
    "    skf = StratifiedKFold(n_splits=folds, shuffle=True, random_state=21)\n",
    "    for fold, (train_idx, test_idx) in enumerate(skf.split(X, y)):\n",
    "        print(f\"Fold: {fold}\")\n",
    "        x_train, y_train = X.iloc[train_idx], y.iloc[train_idx]\n",
    "        x_test, y_test = X.iloc[test_idx], y.iloc[test_idx]\n",
    "\n",
    "        alg = model(**params)\n",
    "        alg.fit(x_train, y_train,\n",
    "                eval_set=[(x_test, y_test)],\n",
    "                early_stopping_rounds=100,\n",
    "                verbose=400)\n",
    "\n",
    "        pred = alg.predict_proba(x_test)[:, 1]\n",
    "        roc_score = roc_auc_score(y_test, pred)\n",
    "        print(f\"roc_auc_score: {roc_score}\")\n",
    "        print(\"-\"*50)\n",
    "    \n",
    "    return alg"
   ]
  },
  {
   "cell_type": "code",
   "execution_count": 181,
   "metadata": {},
   "outputs": [],
   "source": [
    "xgb_params= {'n_estimators': 20000, \n",
    "             'max_depth': 6, \n",
    "             'learning_rate': 0.0201, \n",
    "             'reg_lambda': 29.326, \n",
    "             'subsample': 0.818, \n",
    "             'colsample_bytree': 0.235, \n",
    "             'colsample_bynode': 0.820, \n",
    "             'colsample_bylevel': 0.453}"
   ]
  },
  {
   "cell_type": "code",
   "execution_count": 182,
   "metadata": {},
   "outputs": [
    {
     "name": "stdout",
     "output_type": "stream",
     "text": [
      "Fold: 0\n",
      "[23:10:31] WARNING: C:/Users/Administrator/workspace/xgboost-win64_release_1.4.0/src/learner.cc:1095: Starting in XGBoost 1.3.0, the default evaluation metric used with the objective 'binary:logistic' was changed from 'error' to 'logloss'. Explicitly set eval_metric if you'd like to restore the old behavior.\n",
      "[0]\tvalidation_0-logloss:0.68731\n",
      "[400]\tvalidation_0-logloss:0.40120\n",
      "[800]\tvalidation_0-logloss:0.39090\n",
      "[1200]\tvalidation_0-logloss:0.38868\n",
      "[1600]\tvalidation_0-logloss:0.38742\n",
      "[2000]\tvalidation_0-logloss:0.38657\n",
      "[2400]\tvalidation_0-logloss:0.38588\n",
      "[2800]\tvalidation_0-logloss:0.38548\n",
      "[3200]\tvalidation_0-logloss:0.38527\n",
      "[3600]\tvalidation_0-logloss:0.38511\n",
      "[3860]\tvalidation_0-logloss:0.38505\n",
      "roc_auc_score: 0.8492045066110878\n",
      "--------------------------------------------------\n",
      "Fold: 1\n",
      "[23:16:32] WARNING: C:/Users/Administrator/workspace/xgboost-win64_release_1.4.0/src/learner.cc:1095: Starting in XGBoost 1.3.0, the default evaluation metric used with the objective 'binary:logistic' was changed from 'error' to 'logloss'. Explicitly set eval_metric if you'd like to restore the old behavior.\n",
      "[0]\tvalidation_0-logloss:0.68732\n",
      "[400]\tvalidation_0-logloss:0.40297\n",
      "[800]\tvalidation_0-logloss:0.39303\n",
      "[1200]\tvalidation_0-logloss:0.39062\n",
      "[1600]\tvalidation_0-logloss:0.38921\n",
      "[2000]\tvalidation_0-logloss:0.38823\n",
      "[2400]\tvalidation_0-logloss:0.38754\n",
      "[2800]\tvalidation_0-logloss:0.38707\n",
      "[3200]\tvalidation_0-logloss:0.38684\n",
      "[3600]\tvalidation_0-logloss:0.38662\n",
      "[4000]\tvalidation_0-logloss:0.38641\n",
      "[4400]\tvalidation_0-logloss:0.38621\n",
      "[4546]\tvalidation_0-logloss:0.38621\n",
      "roc_auc_score: 0.8468600602824581\n",
      "--------------------------------------------------\n",
      "Fold: 2\n",
      "[23:23:18] WARNING: C:/Users/Administrator/workspace/xgboost-win64_release_1.4.0/src/learner.cc:1095: Starting in XGBoost 1.3.0, the default evaluation metric used with the objective 'binary:logistic' was changed from 'error' to 'logloss'. Explicitly set eval_metric if you'd like to restore the old behavior.\n",
      "[0]\tvalidation_0-logloss:0.68730\n",
      "[400]\tvalidation_0-logloss:0.40102\n",
      "[800]\tvalidation_0-logloss:0.38985\n",
      "[1200]\tvalidation_0-logloss:0.38695\n",
      "[1600]\tvalidation_0-logloss:0.38540\n",
      "[2000]\tvalidation_0-logloss:0.38434\n",
      "[2400]\tvalidation_0-logloss:0.38355\n",
      "[2800]\tvalidation_0-logloss:0.38295\n",
      "[3200]\tvalidation_0-logloss:0.38264\n",
      "[3600]\tvalidation_0-logloss:0.38239\n",
      "[4000]\tvalidation_0-logloss:0.38228\n",
      "[4400]\tvalidation_0-logloss:0.38209\n",
      "[4800]\tvalidation_0-logloss:0.38200\n",
      "[5200]\tvalidation_0-logloss:0.38193\n",
      "[5297]\tvalidation_0-logloss:0.38193\n",
      "roc_auc_score: 0.8499350756846339\n",
      "--------------------------------------------------\n",
      "Fold: 3\n",
      "[23:31:22] WARNING: C:/Users/Administrator/workspace/xgboost-win64_release_1.4.0/src/learner.cc:1095: Starting in XGBoost 1.3.0, the default evaluation metric used with the objective 'binary:logistic' was changed from 'error' to 'logloss'. Explicitly set eval_metric if you'd like to restore the old behavior.\n",
      "[0]\tvalidation_0-logloss:0.68734\n",
      "[400]\tvalidation_0-logloss:0.40329\n",
      "[800]\tvalidation_0-logloss:0.39056\n",
      "[1200]\tvalidation_0-logloss:0.38728\n",
      "[1600]\tvalidation_0-logloss:0.38565\n",
      "[2000]\tvalidation_0-logloss:0.38442\n",
      "[2400]\tvalidation_0-logloss:0.38381\n",
      "[2800]\tvalidation_0-logloss:0.38333\n",
      "[3200]\tvalidation_0-logloss:0.38294\n",
      "[3600]\tvalidation_0-logloss:0.38274\n",
      "[3644]\tvalidation_0-logloss:0.38275\n",
      "roc_auc_score: 0.8501124538382449\n",
      "--------------------------------------------------\n",
      "Fold: 4\n",
      "[23:37:07] WARNING: C:/Users/Administrator/workspace/xgboost-win64_release_1.4.0/src/learner.cc:1095: Starting in XGBoost 1.3.0, the default evaluation metric used with the objective 'binary:logistic' was changed from 'error' to 'logloss'. Explicitly set eval_metric if you'd like to restore the old behavior.\n",
      "[0]\tvalidation_0-logloss:0.68730\n",
      "[400]\tvalidation_0-logloss:0.40173\n",
      "[800]\tvalidation_0-logloss:0.38948\n",
      "[1200]\tvalidation_0-logloss:0.38639\n",
      "[1600]\tvalidation_0-logloss:0.38481\n",
      "[2000]\tvalidation_0-logloss:0.38368\n",
      "[2400]\tvalidation_0-logloss:0.38308\n",
      "[2800]\tvalidation_0-logloss:0.38256\n",
      "[3200]\tvalidation_0-logloss:0.38224\n",
      "[3600]\tvalidation_0-logloss:0.38206\n",
      "[4000]\tvalidation_0-logloss:0.38190\n",
      "[4400]\tvalidation_0-logloss:0.38181\n",
      "[4800]\tvalidation_0-logloss:0.38166\n",
      "[5038]\tvalidation_0-logloss:0.38163\n",
      "roc_auc_score: 0.8519202087402358\n",
      "--------------------------------------------------\n",
      "Fold: 5\n",
      "[23:45:29] WARNING: C:/Users/Administrator/workspace/xgboost-win64_release_1.4.0/src/learner.cc:1095: Starting in XGBoost 1.3.0, the default evaluation metric used with the objective 'binary:logistic' was changed from 'error' to 'logloss'. Explicitly set eval_metric if you'd like to restore the old behavior.\n",
      "[0]\tvalidation_0-logloss:0.68735\n",
      "[400]\tvalidation_0-logloss:0.40289\n",
      "[800]\tvalidation_0-logloss:0.39093\n",
      "[1200]\tvalidation_0-logloss:0.38793\n",
      "[1600]\tvalidation_0-logloss:0.38627\n",
      "[2000]\tvalidation_0-logloss:0.38519\n",
      "[2400]\tvalidation_0-logloss:0.38462\n",
      "[2800]\tvalidation_0-logloss:0.38412\n",
      "[3200]\tvalidation_0-logloss:0.38377\n",
      "[3600]\tvalidation_0-logloss:0.38357\n",
      "[4000]\tvalidation_0-logloss:0.38339\n",
      "[4400]\tvalidation_0-logloss:0.38324\n",
      "[4800]\tvalidation_0-logloss:0.38306\n",
      "[5106]\tvalidation_0-logloss:0.38302\n",
      "roc_auc_score: 0.8507266153321926\n",
      "--------------------------------------------------\n",
      "Fold: 6\n",
      "[23:53:12] WARNING: C:/Users/Administrator/workspace/xgboost-win64_release_1.4.0/src/learner.cc:1095: Starting in XGBoost 1.3.0, the default evaluation metric used with the objective 'binary:logistic' was changed from 'error' to 'logloss'. Explicitly set eval_metric if you'd like to restore the old behavior.\n",
      "[0]\tvalidation_0-logloss:0.68732\n",
      "[400]\tvalidation_0-logloss:0.40218\n",
      "[800]\tvalidation_0-logloss:0.39030\n",
      "[1200]\tvalidation_0-logloss:0.38745\n",
      "[1600]\tvalidation_0-logloss:0.38611\n",
      "[2000]\tvalidation_0-logloss:0.38517\n",
      "[2400]\tvalidation_0-logloss:0.38463\n",
      "[2800]\tvalidation_0-logloss:0.38424\n",
      "[3200]\tvalidation_0-logloss:0.38388\n",
      "[3507]\tvalidation_0-logloss:0.38377\n",
      "roc_auc_score: 0.8497478915025828\n",
      "--------------------------------------------------\n",
      "Fold: 7\n",
      "[23:58:43] WARNING: C:/Users/Administrator/workspace/xgboost-win64_release_1.4.0/src/learner.cc:1095: Starting in XGBoost 1.3.0, the default evaluation metric used with the objective 'binary:logistic' was changed from 'error' to 'logloss'. Explicitly set eval_metric if you'd like to restore the old behavior.\n",
      "[0]\tvalidation_0-logloss:0.68734\n",
      "[400]\tvalidation_0-logloss:0.40080\n",
      "[800]\tvalidation_0-logloss:0.38776\n",
      "[1200]\tvalidation_0-logloss:0.38454\n",
      "[1600]\tvalidation_0-logloss:0.38298\n",
      "[2000]\tvalidation_0-logloss:0.38191\n",
      "[2400]\tvalidation_0-logloss:0.38137\n",
      "[2800]\tvalidation_0-logloss:0.38091\n",
      "[3200]\tvalidation_0-logloss:0.38052\n",
      "[3536]\tvalidation_0-logloss:0.38039\n",
      "roc_auc_score: 0.8534386184504171\n",
      "--------------------------------------------------\n",
      "Fold: 8\n",
      "[00:04:29] WARNING: C:/Users/Administrator/workspace/xgboost-win64_release_1.4.0/src/learner.cc:1095: Starting in XGBoost 1.3.0, the default evaluation metric used with the objective 'binary:logistic' was changed from 'error' to 'logloss'. Explicitly set eval_metric if you'd like to restore the old behavior.\n",
      "[0]\tvalidation_0-logloss:0.68734\n",
      "[400]\tvalidation_0-logloss:0.40068\n",
      "[800]\tvalidation_0-logloss:0.39105\n",
      "[1200]\tvalidation_0-logloss:0.38768\n",
      "[1600]\tvalidation_0-logloss:0.38645\n",
      "[2000]\tvalidation_0-logloss:0.38529\n",
      "[2400]\tvalidation_0-logloss:0.38482\n",
      "[2800]\tvalidation_0-logloss:0.38417\n",
      "[3200]\tvalidation_0-logloss:0.38370\n",
      "[3600]\tvalidation_0-logloss:0.38340\n",
      "[4000]\tvalidation_0-logloss:0.38328\n",
      "[4120]\tvalidation_0-logloss:0.38326\n",
      "roc_auc_score: 0.8509287759291919\n",
      "--------------------------------------------------\n"
     ]
    }
   ],
   "source": [
    "from xgboost import XGBClassifier\n",
    "xgb_model = cross_val(X, y, XGBClassifier, xgb_params)"
   ]
  },
  {
   "cell_type": "markdown",
   "metadata": {},
   "source": [
    "# Final Submission"
   ]
  },
  {
   "cell_type": "code",
   "execution_count": 145,
   "metadata": {},
   "outputs": [],
   "source": [
    "predictions = xgb_model.predict_proba(df_test_final)[:,1]"
   ]
  },
  {
   "cell_type": "code",
   "execution_count": 146,
   "metadata": {},
   "outputs": [],
   "source": [
    "sample_submission = pd.read_csv('sample_submission.csv')\n",
    "sample_submission['Is_Lead'] = predictions\n",
    "sample_submission.to_csv(f'submission_final.csv',index=False)"
   ]
  }
 ],
 "metadata": {
  "kernelspec": {
   "display_name": "Python 3",
   "language": "python",
   "name": "python3"
  },
  "language_info": {
   "codemirror_mode": {
    "name": "ipython",
    "version": 3
   },
   "file_extension": ".py",
   "mimetype": "text/x-python",
   "name": "python",
   "nbconvert_exporter": "python",
   "pygments_lexer": "ipython3",
   "version": "3.7.1"
  }
 },
 "nbformat": 4,
 "nbformat_minor": 2
}
