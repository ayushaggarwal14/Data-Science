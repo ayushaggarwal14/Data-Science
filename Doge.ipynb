{
 "cells": [
  {
   "cell_type": "code",
   "execution_count": 14,
   "metadata": {},
   "outputs": [],
   "source": [
    "f= open(r\"C:\\Users\\DELL\\Desktop\\AyushManu\\DataVader\\Assignments\\DogeCoin\\Dogecoin.txt\",\"rt\",encoding='utf-8')"
   ]
  },
  {
   "cell_type": "code",
   "execution_count": 15,
   "metadata": {},
   "outputs": [
    {
     "data": {
      "text/plain": [
       "<_io.TextIOWrapper name='C:\\\\Users\\\\DELL\\\\Desktop\\\\AyushManu\\\\DataVader\\\\Assignments\\\\DogeCoin\\\\Dogecoin.txt' mode='rt' encoding='utf-8'>"
      ]
     },
     "execution_count": 15,
     "metadata": {},
     "output_type": "execute_result"
    }
   ],
   "source": [
    "f"
   ]
  },
  {
   "cell_type": "code",
   "execution_count": 16,
   "metadata": {},
   "outputs": [],
   "source": [
    "text = f.read()"
   ]
  },
  {
   "cell_type": "code",
   "execution_count": 17,
   "metadata": {},
   "outputs": [
    {
     "data": {
      "text/plain": [
       "'On April 1, Elon Musk had tweeted - SpaceX is going to put a literal Dogecoin on the literal moon. The tweet led to a surge in Dogecoin price and it has pretty much been ruling the internet since then. Yet, no one would have expected Musk to actually do that. And, here we are. The Tesla chief is actually sending Dogecoin to the moon. Elon Musk’s commercial rocket company SpaceX has announced that it will launch \"DOGE-1 Mission to the Moon\" in the first quarter of next year.\\n\\nMusk tweeted that company’s new satellite will be called Doge-1. Not just this, in an unprecedented move, the entire mission will be paid for in Dogecoin. This will make Doge the first crypto in space. Ironically, it will also be the first meme in space.\\n\\n“SpaceX launching satellite Doge-1 to the moon next year. Mission paid for in Doge. 1st crypto in space. 1st meme in space. To the mooooonnn!!” Musk tweeted, a day after his Saturday Night Live appearance which saw the crypto crash. Dogecoin had lost one third of its price while Musk on SNL as he called it a hustle.\\n\\nGeometric Energy Corporation gave further information about the space mission through an official statement on Sunday.\\n\\n\"This mission will demonstrate the application of cryptocurrency beyond Earth orbit and set the foundation for interplanetary commerce\", SpaceX Vice President of Commercial Sales Tom Ochinero was quoted as saying in the statement released by Geometric Energy.\\n\\nThe statement adds that Dogecoin is “sophisticated enough to finance a commercial Moon mission in full” and that it’ll be used for all lunar business between the two companies.\\n\\nDespite all the good news and hype around it, Dogecoin has had a tough week. Its price has been fluctuating for different reasons but Elon Musk has been at the centre of all. Overall, the crypto has given almost 10,000 per cent returns this month and recovered late Sunday evening after a dramatic fall on Saturday after Musk’s SNL performance.\\n\\nWhile the new space mission sounds exciting, it will be interesting to see how effective it is. Also, time will tell if sending Doge-1 to the moon will also send Dogecoin to the moon or not. The phrase has become increasingly popular among investor. To recall, Dogecoin started as meme currency and probably, Musk has taken the joke too far'"
      ]
     },
     "execution_count": 17,
     "metadata": {},
     "output_type": "execute_result"
    }
   ],
   "source": [
    "text"
   ]
  },
  {
   "cell_type": "code",
   "execution_count": 18,
   "metadata": {},
   "outputs": [],
   "source": [
    "#sentence tokenisation"
   ]
  },
  {
   "cell_type": "code",
   "execution_count": 19,
   "metadata": {},
   "outputs": [],
   "source": [
    "import nltk"
   ]
  },
  {
   "cell_type": "code",
   "execution_count": 20,
   "metadata": {},
   "outputs": [
    {
     "name": "stderr",
     "output_type": "stream",
     "text": [
      "[nltk_data] Downloading package punkt to\n",
      "[nltk_data]     C:\\Users\\DELL\\AppData\\Roaming\\nltk_data...\n",
      "[nltk_data]   Unzipping tokenizers\\punkt.zip.\n"
     ]
    }
   ],
   "source": [
    "nltk.download('punkt')\n",
    "from nltk import sent_tokenize"
   ]
  },
  {
   "cell_type": "code",
   "execution_count": 21,
   "metadata": {},
   "outputs": [],
   "source": [
    "sentences = sent_tokenize(text)"
   ]
  },
  {
   "cell_type": "code",
   "execution_count": 22,
   "metadata": {},
   "outputs": [
    {
     "data": {
      "text/plain": [
       "'On April 1, Elon Musk had tweeted - SpaceX is going to put a literal Dogecoin on the literal moon.'"
      ]
     },
     "execution_count": 22,
     "metadata": {},
     "output_type": "execute_result"
    }
   ],
   "source": [
    "sentences[0]"
   ]
  },
  {
   "cell_type": "code",
   "execution_count": 23,
   "metadata": {},
   "outputs": [],
   "source": [
    "from nltk import word_tokenize"
   ]
  },
  {
   "cell_type": "code",
   "execution_count": 39,
   "metadata": {},
   "outputs": [],
   "source": [
    "words = word_tokenize(text)"
   ]
  },
  {
   "cell_type": "code",
   "execution_count": 40,
   "metadata": {},
   "outputs": [],
   "source": [
    "import string"
   ]
  },
  {
   "cell_type": "code",
   "execution_count": 42,
   "metadata": {},
   "outputs": [
    {
     "data": {
      "text/plain": [
       "451"
      ]
     },
     "execution_count": 42,
     "metadata": {},
     "output_type": "execute_result"
    }
   ],
   "source": [
    "len(words)"
   ]
  },
  {
   "cell_type": "code",
   "execution_count": 43,
   "metadata": {},
   "outputs": [
    {
     "data": {
      "text/plain": [
       "'!\"#$%&\\'()*+,-./:;<=>?@[\\\\]^_`{|}~'"
      ]
     },
     "execution_count": 43,
     "metadata": {},
     "output_type": "execute_result"
    }
   ],
   "source": [
    "string.punctuation"
   ]
  },
  {
   "cell_type": "code",
   "execution_count": 44,
   "metadata": {},
   "outputs": [],
   "source": [
    "punc = '!\"#$%&\\'()*+,-./:;<=>?@[\\\\]^_`{|}~'\n",
    "table = str.maketrans(\"\",\"\",punc)"
   ]
  },
  {
   "cell_type": "code",
   "execution_count": 52,
   "metadata": {},
   "outputs": [],
   "source": [
    "for w in words:\n",
    "    stripped = [w.translate(table)]\n"
   ]
  },
  {
   "cell_type": "code",
   "execution_count": 53,
   "metadata": {},
   "outputs": [
    {
     "name": "stdout",
     "output_type": "stream",
     "text": [
      "['far']\n"
     ]
    }
   ],
   "source": [
    "print(stripped)"
   ]
  },
  {
   "cell_type": "code",
   "execution_count": 71,
   "metadata": {},
   "outputs": [],
   "source": [
    "import re\n",
    "words = re.split(r'\\W+',text)"
   ]
  },
  {
   "cell_type": "code",
   "execution_count": 55,
   "metadata": {},
   "outputs": [],
   "source": [
    "words =[word.lower() for word in words ]"
   ]
  },
  {
   "cell_type": "code",
   "execution_count": 72,
   "metadata": {},
   "outputs": [],
   "source": [
    "from nltk.corpus import stopwords\n",
    "stop_words=  stopwords.words('english')\n",
    "clean_words = [ w for w in words if w not in stop_words]"
   ]
  },
  {
   "cell_type": "code",
   "execution_count": 73,
   "metadata": {},
   "outputs": [
    {
     "data": {
      "text/plain": [
       "243"
      ]
     },
     "execution_count": 73,
     "metadata": {},
     "output_type": "execute_result"
    }
   ],
   "source": [
    "len(clean_words)"
   ]
  },
  {
   "cell_type": "code",
   "execution_count": 75,
   "metadata": {},
   "outputs": [
    {
     "data": {
      "text/plain": [
       "402"
      ]
     },
     "execution_count": 75,
     "metadata": {},
     "output_type": "execute_result"
    }
   ],
   "source": [
    "len(words)"
   ]
  },
  {
   "cell_type": "code",
   "execution_count": null,
   "metadata": {},
   "outputs": [],
   "source": []
  }
 ],
 "metadata": {
  "kernelspec": {
   "display_name": "Python 3",
   "language": "python",
   "name": "python3"
  },
  "language_info": {
   "codemirror_mode": {
    "name": "ipython",
    "version": 3
   },
   "file_extension": ".py",
   "mimetype": "text/x-python",
   "name": "python",
   "nbconvert_exporter": "python",
   "pygments_lexer": "ipython3",
   "version": "3.7.1"
  }
 },
 "nbformat": 4,
 "nbformat_minor": 2
}
